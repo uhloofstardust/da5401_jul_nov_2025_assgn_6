{
 "cells": [
  {
   "cell_type": "markdown",
   "id": "386b95ee",
   "metadata": {},
   "source": [
    "# DA5401 A6: Imputation via Regression for Missing Data\n",
    "\n",
    "Submitted by Sanved Bangale (**DA25M027**)"
   ]
  },
  {
   "cell_type": "code",
   "execution_count": 2,
   "id": "4d86dc94",
   "metadata": {},
   "outputs": [],
   "source": [
    "import numpy as np\n",
    "import pandas as pd\n",
    "import matplotlib.pyplot as plt\n",
    "import seaborn as sns"
   ]
  },
  {
   "cell_type": "code",
   "execution_count": 3,
   "id": "76f6105d",
   "metadata": {},
   "outputs": [],
   "source": [
    "plt.style.use('seaborn-v0_8-darkgrid')\n",
    "sns.set_palette('Set2')"
   ]
  },
  {
   "cell_type": "code",
   "execution_count": 4,
   "id": "dfd8ebdf",
   "metadata": {},
   "outputs": [],
   "source": [
    "np.random.seed(42)"
   ]
  },
  {
   "cell_type": "markdown",
   "id": "1a16d7e8",
   "metadata": {},
   "source": [
    "## A. Data Pre-Processing and Imputation"
   ]
  },
  {
   "cell_type": "markdown",
   "id": "bbc01efa",
   "metadata": {},
   "source": [
    "### Prepping"
   ]
  },
  {
   "cell_type": "code",
   "execution_count": 5,
   "id": "4a98043c",
   "metadata": {},
   "outputs": [
    {
     "name": "stdout",
     "output_type": "stream",
     "text": [
      "(30000, 25)\n"
     ]
    }
   ],
   "source": [
    "df = pd.read_csv('UCI_Credit_Card.csv')\n",
    "print(df.shape)"
   ]
  },
  {
   "cell_type": "code",
   "execution_count": 6,
   "id": "12e2fcaa",
   "metadata": {},
   "outputs": [
    {
     "data": {
      "text/html": [
       "<div>\n",
       "<style scoped>\n",
       "    .dataframe tbody tr th:only-of-type {\n",
       "        vertical-align: middle;\n",
       "    }\n",
       "\n",
       "    .dataframe tbody tr th {\n",
       "        vertical-align: top;\n",
       "    }\n",
       "\n",
       "    .dataframe thead th {\n",
       "        text-align: right;\n",
       "    }\n",
       "</style>\n",
       "<table border=\"1\" class=\"dataframe\">\n",
       "  <thead>\n",
       "    <tr style=\"text-align: right;\">\n",
       "      <th></th>\n",
       "      <th>ID</th>\n",
       "      <th>LIMIT_BAL</th>\n",
       "      <th>SEX</th>\n",
       "      <th>EDUCATION</th>\n",
       "      <th>MARRIAGE</th>\n",
       "      <th>AGE</th>\n",
       "      <th>PAY_0</th>\n",
       "      <th>PAY_2</th>\n",
       "      <th>PAY_3</th>\n",
       "      <th>PAY_4</th>\n",
       "      <th>...</th>\n",
       "      <th>BILL_AMT4</th>\n",
       "      <th>BILL_AMT5</th>\n",
       "      <th>BILL_AMT6</th>\n",
       "      <th>PAY_AMT1</th>\n",
       "      <th>PAY_AMT2</th>\n",
       "      <th>PAY_AMT3</th>\n",
       "      <th>PAY_AMT4</th>\n",
       "      <th>PAY_AMT5</th>\n",
       "      <th>PAY_AMT6</th>\n",
       "      <th>default.payment.next.month</th>\n",
       "    </tr>\n",
       "  </thead>\n",
       "  <tbody>\n",
       "    <tr>\n",
       "      <th>0</th>\n",
       "      <td>1</td>\n",
       "      <td>20000.0</td>\n",
       "      <td>2</td>\n",
       "      <td>2</td>\n",
       "      <td>1</td>\n",
       "      <td>24</td>\n",
       "      <td>2</td>\n",
       "      <td>2</td>\n",
       "      <td>-1</td>\n",
       "      <td>-1</td>\n",
       "      <td>...</td>\n",
       "      <td>0.0</td>\n",
       "      <td>0.0</td>\n",
       "      <td>0.0</td>\n",
       "      <td>0.0</td>\n",
       "      <td>689.0</td>\n",
       "      <td>0.0</td>\n",
       "      <td>0.0</td>\n",
       "      <td>0.0</td>\n",
       "      <td>0.0</td>\n",
       "      <td>1</td>\n",
       "    </tr>\n",
       "    <tr>\n",
       "      <th>1</th>\n",
       "      <td>2</td>\n",
       "      <td>120000.0</td>\n",
       "      <td>2</td>\n",
       "      <td>2</td>\n",
       "      <td>2</td>\n",
       "      <td>26</td>\n",
       "      <td>-1</td>\n",
       "      <td>2</td>\n",
       "      <td>0</td>\n",
       "      <td>0</td>\n",
       "      <td>...</td>\n",
       "      <td>3272.0</td>\n",
       "      <td>3455.0</td>\n",
       "      <td>3261.0</td>\n",
       "      <td>0.0</td>\n",
       "      <td>1000.0</td>\n",
       "      <td>1000.0</td>\n",
       "      <td>1000.0</td>\n",
       "      <td>0.0</td>\n",
       "      <td>2000.0</td>\n",
       "      <td>1</td>\n",
       "    </tr>\n",
       "    <tr>\n",
       "      <th>2</th>\n",
       "      <td>3</td>\n",
       "      <td>90000.0</td>\n",
       "      <td>2</td>\n",
       "      <td>2</td>\n",
       "      <td>2</td>\n",
       "      <td>34</td>\n",
       "      <td>0</td>\n",
       "      <td>0</td>\n",
       "      <td>0</td>\n",
       "      <td>0</td>\n",
       "      <td>...</td>\n",
       "      <td>14331.0</td>\n",
       "      <td>14948.0</td>\n",
       "      <td>15549.0</td>\n",
       "      <td>1518.0</td>\n",
       "      <td>1500.0</td>\n",
       "      <td>1000.0</td>\n",
       "      <td>1000.0</td>\n",
       "      <td>1000.0</td>\n",
       "      <td>5000.0</td>\n",
       "      <td>0</td>\n",
       "    </tr>\n",
       "    <tr>\n",
       "      <th>3</th>\n",
       "      <td>4</td>\n",
       "      <td>50000.0</td>\n",
       "      <td>2</td>\n",
       "      <td>2</td>\n",
       "      <td>1</td>\n",
       "      <td>37</td>\n",
       "      <td>0</td>\n",
       "      <td>0</td>\n",
       "      <td>0</td>\n",
       "      <td>0</td>\n",
       "      <td>...</td>\n",
       "      <td>28314.0</td>\n",
       "      <td>28959.0</td>\n",
       "      <td>29547.0</td>\n",
       "      <td>2000.0</td>\n",
       "      <td>2019.0</td>\n",
       "      <td>1200.0</td>\n",
       "      <td>1100.0</td>\n",
       "      <td>1069.0</td>\n",
       "      <td>1000.0</td>\n",
       "      <td>0</td>\n",
       "    </tr>\n",
       "    <tr>\n",
       "      <th>4</th>\n",
       "      <td>5</td>\n",
       "      <td>50000.0</td>\n",
       "      <td>1</td>\n",
       "      <td>2</td>\n",
       "      <td>1</td>\n",
       "      <td>57</td>\n",
       "      <td>-1</td>\n",
       "      <td>0</td>\n",
       "      <td>-1</td>\n",
       "      <td>0</td>\n",
       "      <td>...</td>\n",
       "      <td>20940.0</td>\n",
       "      <td>19146.0</td>\n",
       "      <td>19131.0</td>\n",
       "      <td>2000.0</td>\n",
       "      <td>36681.0</td>\n",
       "      <td>10000.0</td>\n",
       "      <td>9000.0</td>\n",
       "      <td>689.0</td>\n",
       "      <td>679.0</td>\n",
       "      <td>0</td>\n",
       "    </tr>\n",
       "  </tbody>\n",
       "</table>\n",
       "<p>5 rows × 25 columns</p>\n",
       "</div>"
      ],
      "text/plain": [
       "   ID  LIMIT_BAL  SEX  EDUCATION  MARRIAGE  AGE  PAY_0  PAY_2  PAY_3  PAY_4  \\\n",
       "0   1    20000.0    2          2         1   24      2      2     -1     -1   \n",
       "1   2   120000.0    2          2         2   26     -1      2      0      0   \n",
       "2   3    90000.0    2          2         2   34      0      0      0      0   \n",
       "3   4    50000.0    2          2         1   37      0      0      0      0   \n",
       "4   5    50000.0    1          2         1   57     -1      0     -1      0   \n",
       "\n",
       "   ...  BILL_AMT4  BILL_AMT5  BILL_AMT6  PAY_AMT1  PAY_AMT2  PAY_AMT3  \\\n",
       "0  ...        0.0        0.0        0.0       0.0     689.0       0.0   \n",
       "1  ...     3272.0     3455.0     3261.0       0.0    1000.0    1000.0   \n",
       "2  ...    14331.0    14948.0    15549.0    1518.0    1500.0    1000.0   \n",
       "3  ...    28314.0    28959.0    29547.0    2000.0    2019.0    1200.0   \n",
       "4  ...    20940.0    19146.0    19131.0    2000.0   36681.0   10000.0   \n",
       "\n",
       "   PAY_AMT4  PAY_AMT5  PAY_AMT6  default.payment.next.month  \n",
       "0       0.0       0.0       0.0                           1  \n",
       "1    1000.0       0.0    2000.0                           1  \n",
       "2    1000.0    1000.0    5000.0                           0  \n",
       "3    1100.0    1069.0    1000.0                           0  \n",
       "4    9000.0     689.0     679.0                           0  \n",
       "\n",
       "[5 rows x 25 columns]"
      ]
     },
     "execution_count": 6,
     "metadata": {},
     "output_type": "execute_result"
    }
   ],
   "source": [
    "df.head()"
   ]
  },
  {
   "cell_type": "code",
   "execution_count": 7,
   "id": "b96f6b8c",
   "metadata": {},
   "outputs": [
    {
     "name": "stdout",
     "output_type": "stream",
     "text": [
      "<class 'pandas.core.frame.DataFrame'>\n",
      "RangeIndex: 30000 entries, 0 to 29999\n",
      "Data columns (total 25 columns):\n",
      " #   Column                      Non-Null Count  Dtype  \n",
      "---  ------                      --------------  -----  \n",
      " 0   ID                          30000 non-null  int64  \n",
      " 1   LIMIT_BAL                   30000 non-null  float64\n",
      " 2   SEX                         30000 non-null  int64  \n",
      " 3   EDUCATION                   30000 non-null  int64  \n",
      " 4   MARRIAGE                    30000 non-null  int64  \n",
      " 5   AGE                         30000 non-null  int64  \n",
      " 6   PAY_0                       30000 non-null  int64  \n",
      " 7   PAY_2                       30000 non-null  int64  \n",
      " 8   PAY_3                       30000 non-null  int64  \n",
      " 9   PAY_4                       30000 non-null  int64  \n",
      " 10  PAY_5                       30000 non-null  int64  \n",
      " 11  PAY_6                       30000 non-null  int64  \n",
      " 12  BILL_AMT1                   30000 non-null  float64\n",
      " 13  BILL_AMT2                   30000 non-null  float64\n",
      " 14  BILL_AMT3                   30000 non-null  float64\n",
      " 15  BILL_AMT4                   30000 non-null  float64\n",
      " 16  BILL_AMT5                   30000 non-null  float64\n",
      " 17  BILL_AMT6                   30000 non-null  float64\n",
      " 18  PAY_AMT1                    30000 non-null  float64\n",
      " 19  PAY_AMT2                    30000 non-null  float64\n",
      " 20  PAY_AMT3                    30000 non-null  float64\n",
      " 21  PAY_AMT4                    30000 non-null  float64\n",
      " 22  PAY_AMT5                    30000 non-null  float64\n",
      " 23  PAY_AMT6                    30000 non-null  float64\n",
      " 24  default.payment.next.month  30000 non-null  int64  \n",
      "dtypes: float64(13), int64(12)\n",
      "memory usage: 5.7 MB\n"
     ]
    }
   ],
   "source": [
    "df.info()"
   ]
  },
  {
   "cell_type": "code",
   "execution_count": 8,
   "id": "e411b2ee",
   "metadata": {},
   "outputs": [
    {
     "data": {
      "text/plain": [
       "ID                            0\n",
       "LIMIT_BAL                     0\n",
       "SEX                           0\n",
       "EDUCATION                     0\n",
       "MARRIAGE                      0\n",
       "AGE                           0\n",
       "PAY_0                         0\n",
       "PAY_2                         0\n",
       "PAY_3                         0\n",
       "PAY_4                         0\n",
       "PAY_5                         0\n",
       "PAY_6                         0\n",
       "BILL_AMT1                     0\n",
       "BILL_AMT2                     0\n",
       "BILL_AMT3                     0\n",
       "BILL_AMT4                     0\n",
       "BILL_AMT5                     0\n",
       "BILL_AMT6                     0\n",
       "PAY_AMT1                      0\n",
       "PAY_AMT2                      0\n",
       "PAY_AMT3                      0\n",
       "PAY_AMT4                      0\n",
       "PAY_AMT5                      0\n",
       "PAY_AMT6                      0\n",
       "default.payment.next.month    0\n",
       "dtype: int64"
      ]
     },
     "execution_count": 8,
     "metadata": {},
     "output_type": "execute_result"
    }
   ],
   "source": [
    "df.isna().sum()"
   ]
  },
  {
   "cell_type": "markdown",
   "id": "f4f38d37",
   "metadata": {},
   "source": [
    "There are no missing values in this data set. \\\n",
    "The dataset is clean. "
   ]
  },
  {
   "cell_type": "markdown",
   "id": "804e6b1c",
   "metadata": {},
   "source": [
    "I'll introduce some missing values in `AGE` and `BILL_AMT1`. "
   ]
  },
  {
   "cell_type": "code",
   "execution_count": 9,
   "id": "cd6ac275",
   "metadata": {},
   "outputs": [],
   "source": [
    "df_with_missing = df.copy()"
   ]
  },
  {
   "cell_type": "code",
   "execution_count": 10,
   "id": "9dd9cf84",
   "metadata": {},
   "outputs": [],
   "source": [
    "cols_to_nan = ['AGE', 'BILL_AMT1']"
   ]
  },
  {
   "cell_type": "code",
   "execution_count": 11,
   "id": "5fab40e6",
   "metadata": {},
   "outputs": [
    {
     "name": "stdout",
     "output_type": "stream",
     "text": [
      "added 1500 NaN values to col AGE\n",
      "added 1500 NaN values to col BILL_AMT1\n"
     ]
    }
   ],
   "source": [
    "for col in cols_to_nan:\n",
    "    indices = df_with_missing.index\n",
    "    missing_count = int(0.05 * len(indices))\n",
    "    missing_indices = np.random.choice(indices, size=missing_count, replace=False)\n",
    "    df_with_missing.loc[missing_indices, col] = np.nan\n",
    "    print(f'added {missing_count} NaN values to col {col}')"
   ]
  },
  {
   "cell_type": "code",
   "execution_count": 12,
   "id": "3bad252b",
   "metadata": {},
   "outputs": [
    {
     "name": "stdout",
     "output_type": "stream",
     "text": [
      "missing values:\n",
      "AGE          1500\n",
      "BILL_AMT1    1500\n",
      "dtype: int64\n"
     ]
    }
   ],
   "source": [
    "print('missing values:')\n",
    "print(df_with_missing[cols_to_nan].isna().sum())"
   ]
  },
  {
   "cell_type": "markdown",
   "id": "12970fda",
   "metadata": {},
   "source": [
    "I've introduced $5\\%$ missing values (`NaN`) to each of `AGE` and `BILL_AMT1`."
   ]
  },
  {
   "cell_type": "markdown",
   "id": "c3c4a744",
   "metadata": {},
   "source": [
    "Total instances: $30,000$ \\\n",
    "Removed $5\\%$ of $30,000$ = $1500$"
   ]
  },
  {
   "cell_type": "markdown",
   "id": "84374811",
   "metadata": {},
   "source": [
    "### Dataset A: Imputation using Median"
   ]
  },
  {
   "cell_type": "markdown",
   "id": "4cb9cc6b",
   "metadata": {},
   "source": [
    "I'll replace the missing values with the median value of the respective attributes. "
   ]
  },
  {
   "cell_type": "code",
   "execution_count": 13,
   "id": "cde07b29",
   "metadata": {},
   "outputs": [],
   "source": [
    "dataset_A = df_with_missing.copy()"
   ]
  },
  {
   "cell_type": "code",
   "execution_count": 14,
   "id": "cd5db5cb",
   "metadata": {},
   "outputs": [
    {
     "name": "stdout",
     "output_type": "stream",
     "text": [
      "before imputation:\n",
      "AGE          1500\n",
      "BILL_AMT1    1500\n",
      "dtype: int64\n"
     ]
    }
   ],
   "source": [
    "print('before imputation:')\n",
    "print(dataset_A[['AGE', 'BILL_AMT1']].isna().sum())"
   ]
  },
  {
   "cell_type": "code",
   "execution_count": 15,
   "id": "e37547f8",
   "metadata": {},
   "outputs": [],
   "source": [
    "for col in cols_to_nan:\n",
    "    col_median = dataset_A[col].median()\n",
    "    dataset_A[col] = dataset_A[col].fillna(col_median)"
   ]
  },
  {
   "cell_type": "code",
   "execution_count": 16,
   "id": "d3c32576",
   "metadata": {},
   "outputs": [
    {
     "name": "stdout",
     "output_type": "stream",
     "text": [
      "after imputation:\n",
      "AGE          0\n",
      "BILL_AMT1    0\n",
      "dtype: int64\n",
      "\n",
      "shape: (30000, 25)\n"
     ]
    }
   ],
   "source": [
    "print(\"after imputation:\")\n",
    "print(dataset_A[['AGE', 'BILL_AMT1']].isna().sum())\n",
    "print(f'\\nshape: {dataset_A.shape}')"
   ]
  },
  {
   "cell_type": "markdown",
   "id": "01845b1c",
   "metadata": {},
   "source": [
    "We use median for imputation instead of the mean. \\\n",
    "This is because unlike the mean, the median is robust to oultiers. \\\n",
    "There can be outliers in the data that can affect the mean heavily. \\\n",
    "The median reflects the data without being affected by those outliers. \\"
   ]
  },
  {
   "cell_type": "markdown",
   "id": "95f8ec52",
   "metadata": {},
   "source": [
    "### Dataset B: Imputation using Regression"
   ]
  },
  {
   "cell_type": "code",
   "execution_count": 17,
   "id": "1650fd68",
   "metadata": {},
   "outputs": [],
   "source": [
    "from sklearn.linear_model import LinearRegression"
   ]
  },
  {
   "cell_type": "code",
   "execution_count": 19,
   "id": "9894bd00",
   "metadata": {},
   "outputs": [
    {
     "name": "stdout",
     "output_type": "stream",
     "text": [
      "AGE          1500\n",
      "BILL_AMT1    1500\n",
      "dtype: int64\n"
     ]
    }
   ],
   "source": [
    "dataset_B = df_with_missing.copy()\n",
    "print(dataset_B[['AGE', 'BILL_AMT1']].isna().sum())"
   ]
  },
  {
   "cell_type": "code",
   "execution_count": 22,
   "id": "dc46a260",
   "metadata": {},
   "outputs": [],
   "source": [
    "target_column = 'AGE'\n",
    "missing_age_mask = dataset_B[target_column].isna()\n",
    "non_missing_data = dataset_B[~missing_age_mask]  # without missing AGE data\n",
    "missing_data = dataset_B[missing_age_mask]       # with missing AGE data"
   ]
  },
  {
   "cell_type": "markdown",
   "id": "d09d194d",
   "metadata": {},
   "source": [
    "Each should be 1500."
   ]
  },
  {
   "cell_type": "code",
   "execution_count": 23,
   "id": "30aba56a",
   "metadata": {},
   "outputs": [
    {
     "name": "stdout",
     "output_type": "stream",
     "text": [
      "feature colms are ['LIMIT_BAL', 'SEX', 'EDUCATION', 'MARRIAGE', 'PAY_0', 'PAY_2', 'PAY_3', 'PAY_4', 'PAY_5', 'PAY_6', 'BILL_AMT2', 'BILL_AMT3', 'BILL_AMT4', 'BILL_AMT5', 'BILL_AMT6', 'PAY_AMT1', 'PAY_AMT2', 'PAY_AMT3', 'PAY_AMT4', 'PAY_AMT5', 'PAY_AMT6']\n"
     ]
    }
   ],
   "source": [
    "exclude_cols = ['ID', target_column, 'default.payment.next.month', 'BILL_AMT1']\n",
    "feature_columns = [col for col in dataset_B.columns if col not in exclude_cols]\n",
    "\n",
    "print(f'feature colms are {feature_columns}')"
   ]
  },
  {
   "cell_type": "code",
   "execution_count": 24,
   "id": "7d55fd87",
   "metadata": {},
   "outputs": [],
   "source": [
    "X_train = non_missing_data[feature_columns]\n",
    "y_train = non_missing_data[target_column]"
   ]
  },
  {
   "cell_type": "code",
   "execution_count": 25,
   "id": "d1de251b",
   "metadata": {},
   "outputs": [],
   "source": [
    "X_missing = missing_data[feature_columns]"
   ]
  },
  {
   "cell_type": "code",
   "execution_count": 26,
   "id": "5f00ba92",
   "metadata": {},
   "outputs": [
    {
     "data": {
      "text/html": [
       "<style>#sk-container-id-1 {\n",
       "  /* Definition of color scheme common for light and dark mode */\n",
       "  --sklearn-color-text: #000;\n",
       "  --sklearn-color-text-muted: #666;\n",
       "  --sklearn-color-line: gray;\n",
       "  /* Definition of color scheme for unfitted estimators */\n",
       "  --sklearn-color-unfitted-level-0: #fff5e6;\n",
       "  --sklearn-color-unfitted-level-1: #f6e4d2;\n",
       "  --sklearn-color-unfitted-level-2: #ffe0b3;\n",
       "  --sklearn-color-unfitted-level-3: chocolate;\n",
       "  /* Definition of color scheme for fitted estimators */\n",
       "  --sklearn-color-fitted-level-0: #f0f8ff;\n",
       "  --sklearn-color-fitted-level-1: #d4ebff;\n",
       "  --sklearn-color-fitted-level-2: #b3dbfd;\n",
       "  --sklearn-color-fitted-level-3: cornflowerblue;\n",
       "\n",
       "  /* Specific color for light theme */\n",
       "  --sklearn-color-text-on-default-background: var(--sg-text-color, var(--theme-code-foreground, var(--jp-content-font-color1, black)));\n",
       "  --sklearn-color-background: var(--sg-background-color, var(--theme-background, var(--jp-layout-color0, white)));\n",
       "  --sklearn-color-border-box: var(--sg-text-color, var(--theme-code-foreground, var(--jp-content-font-color1, black)));\n",
       "  --sklearn-color-icon: #696969;\n",
       "\n",
       "  @media (prefers-color-scheme: dark) {\n",
       "    /* Redefinition of color scheme for dark theme */\n",
       "    --sklearn-color-text-on-default-background: var(--sg-text-color, var(--theme-code-foreground, var(--jp-content-font-color1, white)));\n",
       "    --sklearn-color-background: var(--sg-background-color, var(--theme-background, var(--jp-layout-color0, #111)));\n",
       "    --sklearn-color-border-box: var(--sg-text-color, var(--theme-code-foreground, var(--jp-content-font-color1, white)));\n",
       "    --sklearn-color-icon: #878787;\n",
       "  }\n",
       "}\n",
       "\n",
       "#sk-container-id-1 {\n",
       "  color: var(--sklearn-color-text);\n",
       "}\n",
       "\n",
       "#sk-container-id-1 pre {\n",
       "  padding: 0;\n",
       "}\n",
       "\n",
       "#sk-container-id-1 input.sk-hidden--visually {\n",
       "  border: 0;\n",
       "  clip: rect(1px 1px 1px 1px);\n",
       "  clip: rect(1px, 1px, 1px, 1px);\n",
       "  height: 1px;\n",
       "  margin: -1px;\n",
       "  overflow: hidden;\n",
       "  padding: 0;\n",
       "  position: absolute;\n",
       "  width: 1px;\n",
       "}\n",
       "\n",
       "#sk-container-id-1 div.sk-dashed-wrapped {\n",
       "  border: 1px dashed var(--sklearn-color-line);\n",
       "  margin: 0 0.4em 0.5em 0.4em;\n",
       "  box-sizing: border-box;\n",
       "  padding-bottom: 0.4em;\n",
       "  background-color: var(--sklearn-color-background);\n",
       "}\n",
       "\n",
       "#sk-container-id-1 div.sk-container {\n",
       "  /* jupyter's `normalize.less` sets `[hidden] { display: none; }`\n",
       "     but bootstrap.min.css set `[hidden] { display: none !important; }`\n",
       "     so we also need the `!important` here to be able to override the\n",
       "     default hidden behavior on the sphinx rendered scikit-learn.org.\n",
       "     See: https://github.com/scikit-learn/scikit-learn/issues/21755 */\n",
       "  display: inline-block !important;\n",
       "  position: relative;\n",
       "}\n",
       "\n",
       "#sk-container-id-1 div.sk-text-repr-fallback {\n",
       "  display: none;\n",
       "}\n",
       "\n",
       "div.sk-parallel-item,\n",
       "div.sk-serial,\n",
       "div.sk-item {\n",
       "  /* draw centered vertical line to link estimators */\n",
       "  background-image: linear-gradient(var(--sklearn-color-text-on-default-background), var(--sklearn-color-text-on-default-background));\n",
       "  background-size: 2px 100%;\n",
       "  background-repeat: no-repeat;\n",
       "  background-position: center center;\n",
       "}\n",
       "\n",
       "/* Parallel-specific style estimator block */\n",
       "\n",
       "#sk-container-id-1 div.sk-parallel-item::after {\n",
       "  content: \"\";\n",
       "  width: 100%;\n",
       "  border-bottom: 2px solid var(--sklearn-color-text-on-default-background);\n",
       "  flex-grow: 1;\n",
       "}\n",
       "\n",
       "#sk-container-id-1 div.sk-parallel {\n",
       "  display: flex;\n",
       "  align-items: stretch;\n",
       "  justify-content: center;\n",
       "  background-color: var(--sklearn-color-background);\n",
       "  position: relative;\n",
       "}\n",
       "\n",
       "#sk-container-id-1 div.sk-parallel-item {\n",
       "  display: flex;\n",
       "  flex-direction: column;\n",
       "}\n",
       "\n",
       "#sk-container-id-1 div.sk-parallel-item:first-child::after {\n",
       "  align-self: flex-end;\n",
       "  width: 50%;\n",
       "}\n",
       "\n",
       "#sk-container-id-1 div.sk-parallel-item:last-child::after {\n",
       "  align-self: flex-start;\n",
       "  width: 50%;\n",
       "}\n",
       "\n",
       "#sk-container-id-1 div.sk-parallel-item:only-child::after {\n",
       "  width: 0;\n",
       "}\n",
       "\n",
       "/* Serial-specific style estimator block */\n",
       "\n",
       "#sk-container-id-1 div.sk-serial {\n",
       "  display: flex;\n",
       "  flex-direction: column;\n",
       "  align-items: center;\n",
       "  background-color: var(--sklearn-color-background);\n",
       "  padding-right: 1em;\n",
       "  padding-left: 1em;\n",
       "}\n",
       "\n",
       "\n",
       "/* Toggleable style: style used for estimator/Pipeline/ColumnTransformer box that is\n",
       "clickable and can be expanded/collapsed.\n",
       "- Pipeline and ColumnTransformer use this feature and define the default style\n",
       "- Estimators will overwrite some part of the style using the `sk-estimator` class\n",
       "*/\n",
       "\n",
       "/* Pipeline and ColumnTransformer style (default) */\n",
       "\n",
       "#sk-container-id-1 div.sk-toggleable {\n",
       "  /* Default theme specific background. It is overwritten whether we have a\n",
       "  specific estimator or a Pipeline/ColumnTransformer */\n",
       "  background-color: var(--sklearn-color-background);\n",
       "}\n",
       "\n",
       "/* Toggleable label */\n",
       "#sk-container-id-1 label.sk-toggleable__label {\n",
       "  cursor: pointer;\n",
       "  display: flex;\n",
       "  width: 100%;\n",
       "  margin-bottom: 0;\n",
       "  padding: 0.5em;\n",
       "  box-sizing: border-box;\n",
       "  text-align: center;\n",
       "  align-items: start;\n",
       "  justify-content: space-between;\n",
       "  gap: 0.5em;\n",
       "}\n",
       "\n",
       "#sk-container-id-1 label.sk-toggleable__label .caption {\n",
       "  font-size: 0.6rem;\n",
       "  font-weight: lighter;\n",
       "  color: var(--sklearn-color-text-muted);\n",
       "}\n",
       "\n",
       "#sk-container-id-1 label.sk-toggleable__label-arrow:before {\n",
       "  /* Arrow on the left of the label */\n",
       "  content: \"▸\";\n",
       "  float: left;\n",
       "  margin-right: 0.25em;\n",
       "  color: var(--sklearn-color-icon);\n",
       "}\n",
       "\n",
       "#sk-container-id-1 label.sk-toggleable__label-arrow:hover:before {\n",
       "  color: var(--sklearn-color-text);\n",
       "}\n",
       "\n",
       "/* Toggleable content - dropdown */\n",
       "\n",
       "#sk-container-id-1 div.sk-toggleable__content {\n",
       "  max-height: 0;\n",
       "  max-width: 0;\n",
       "  overflow: hidden;\n",
       "  text-align: left;\n",
       "  /* unfitted */\n",
       "  background-color: var(--sklearn-color-unfitted-level-0);\n",
       "}\n",
       "\n",
       "#sk-container-id-1 div.sk-toggleable__content.fitted {\n",
       "  /* fitted */\n",
       "  background-color: var(--sklearn-color-fitted-level-0);\n",
       "}\n",
       "\n",
       "#sk-container-id-1 div.sk-toggleable__content pre {\n",
       "  margin: 0.2em;\n",
       "  border-radius: 0.25em;\n",
       "  color: var(--sklearn-color-text);\n",
       "  /* unfitted */\n",
       "  background-color: var(--sklearn-color-unfitted-level-0);\n",
       "}\n",
       "\n",
       "#sk-container-id-1 div.sk-toggleable__content.fitted pre {\n",
       "  /* unfitted */\n",
       "  background-color: var(--sklearn-color-fitted-level-0);\n",
       "}\n",
       "\n",
       "#sk-container-id-1 input.sk-toggleable__control:checked~div.sk-toggleable__content {\n",
       "  /* Expand drop-down */\n",
       "  max-height: 200px;\n",
       "  max-width: 100%;\n",
       "  overflow: auto;\n",
       "}\n",
       "\n",
       "#sk-container-id-1 input.sk-toggleable__control:checked~label.sk-toggleable__label-arrow:before {\n",
       "  content: \"▾\";\n",
       "}\n",
       "\n",
       "/* Pipeline/ColumnTransformer-specific style */\n",
       "\n",
       "#sk-container-id-1 div.sk-label input.sk-toggleable__control:checked~label.sk-toggleable__label {\n",
       "  color: var(--sklearn-color-text);\n",
       "  background-color: var(--sklearn-color-unfitted-level-2);\n",
       "}\n",
       "\n",
       "#sk-container-id-1 div.sk-label.fitted input.sk-toggleable__control:checked~label.sk-toggleable__label {\n",
       "  background-color: var(--sklearn-color-fitted-level-2);\n",
       "}\n",
       "\n",
       "/* Estimator-specific style */\n",
       "\n",
       "/* Colorize estimator box */\n",
       "#sk-container-id-1 div.sk-estimator input.sk-toggleable__control:checked~label.sk-toggleable__label {\n",
       "  /* unfitted */\n",
       "  background-color: var(--sklearn-color-unfitted-level-2);\n",
       "}\n",
       "\n",
       "#sk-container-id-1 div.sk-estimator.fitted input.sk-toggleable__control:checked~label.sk-toggleable__label {\n",
       "  /* fitted */\n",
       "  background-color: var(--sklearn-color-fitted-level-2);\n",
       "}\n",
       "\n",
       "#sk-container-id-1 div.sk-label label.sk-toggleable__label,\n",
       "#sk-container-id-1 div.sk-label label {\n",
       "  /* The background is the default theme color */\n",
       "  color: var(--sklearn-color-text-on-default-background);\n",
       "}\n",
       "\n",
       "/* On hover, darken the color of the background */\n",
       "#sk-container-id-1 div.sk-label:hover label.sk-toggleable__label {\n",
       "  color: var(--sklearn-color-text);\n",
       "  background-color: var(--sklearn-color-unfitted-level-2);\n",
       "}\n",
       "\n",
       "/* Label box, darken color on hover, fitted */\n",
       "#sk-container-id-1 div.sk-label.fitted:hover label.sk-toggleable__label.fitted {\n",
       "  color: var(--sklearn-color-text);\n",
       "  background-color: var(--sklearn-color-fitted-level-2);\n",
       "}\n",
       "\n",
       "/* Estimator label */\n",
       "\n",
       "#sk-container-id-1 div.sk-label label {\n",
       "  font-family: monospace;\n",
       "  font-weight: bold;\n",
       "  display: inline-block;\n",
       "  line-height: 1.2em;\n",
       "}\n",
       "\n",
       "#sk-container-id-1 div.sk-label-container {\n",
       "  text-align: center;\n",
       "}\n",
       "\n",
       "/* Estimator-specific */\n",
       "#sk-container-id-1 div.sk-estimator {\n",
       "  font-family: monospace;\n",
       "  border: 1px dotted var(--sklearn-color-border-box);\n",
       "  border-radius: 0.25em;\n",
       "  box-sizing: border-box;\n",
       "  margin-bottom: 0.5em;\n",
       "  /* unfitted */\n",
       "  background-color: var(--sklearn-color-unfitted-level-0);\n",
       "}\n",
       "\n",
       "#sk-container-id-1 div.sk-estimator.fitted {\n",
       "  /* fitted */\n",
       "  background-color: var(--sklearn-color-fitted-level-0);\n",
       "}\n",
       "\n",
       "/* on hover */\n",
       "#sk-container-id-1 div.sk-estimator:hover {\n",
       "  /* unfitted */\n",
       "  background-color: var(--sklearn-color-unfitted-level-2);\n",
       "}\n",
       "\n",
       "#sk-container-id-1 div.sk-estimator.fitted:hover {\n",
       "  /* fitted */\n",
       "  background-color: var(--sklearn-color-fitted-level-2);\n",
       "}\n",
       "\n",
       "/* Specification for estimator info (e.g. \"i\" and \"?\") */\n",
       "\n",
       "/* Common style for \"i\" and \"?\" */\n",
       "\n",
       ".sk-estimator-doc-link,\n",
       "a:link.sk-estimator-doc-link,\n",
       "a:visited.sk-estimator-doc-link {\n",
       "  float: right;\n",
       "  font-size: smaller;\n",
       "  line-height: 1em;\n",
       "  font-family: monospace;\n",
       "  background-color: var(--sklearn-color-background);\n",
       "  border-radius: 1em;\n",
       "  height: 1em;\n",
       "  width: 1em;\n",
       "  text-decoration: none !important;\n",
       "  margin-left: 0.5em;\n",
       "  text-align: center;\n",
       "  /* unfitted */\n",
       "  border: var(--sklearn-color-unfitted-level-1) 1pt solid;\n",
       "  color: var(--sklearn-color-unfitted-level-1);\n",
       "}\n",
       "\n",
       ".sk-estimator-doc-link.fitted,\n",
       "a:link.sk-estimator-doc-link.fitted,\n",
       "a:visited.sk-estimator-doc-link.fitted {\n",
       "  /* fitted */\n",
       "  border: var(--sklearn-color-fitted-level-1) 1pt solid;\n",
       "  color: var(--sklearn-color-fitted-level-1);\n",
       "}\n",
       "\n",
       "/* On hover */\n",
       "div.sk-estimator:hover .sk-estimator-doc-link:hover,\n",
       ".sk-estimator-doc-link:hover,\n",
       "div.sk-label-container:hover .sk-estimator-doc-link:hover,\n",
       ".sk-estimator-doc-link:hover {\n",
       "  /* unfitted */\n",
       "  background-color: var(--sklearn-color-unfitted-level-3);\n",
       "  color: var(--sklearn-color-background);\n",
       "  text-decoration: none;\n",
       "}\n",
       "\n",
       "div.sk-estimator.fitted:hover .sk-estimator-doc-link.fitted:hover,\n",
       ".sk-estimator-doc-link.fitted:hover,\n",
       "div.sk-label-container:hover .sk-estimator-doc-link.fitted:hover,\n",
       ".sk-estimator-doc-link.fitted:hover {\n",
       "  /* fitted */\n",
       "  background-color: var(--sklearn-color-fitted-level-3);\n",
       "  color: var(--sklearn-color-background);\n",
       "  text-decoration: none;\n",
       "}\n",
       "\n",
       "/* Span, style for the box shown on hovering the info icon */\n",
       ".sk-estimator-doc-link span {\n",
       "  display: none;\n",
       "  z-index: 9999;\n",
       "  position: relative;\n",
       "  font-weight: normal;\n",
       "  right: .2ex;\n",
       "  padding: .5ex;\n",
       "  margin: .5ex;\n",
       "  width: min-content;\n",
       "  min-width: 20ex;\n",
       "  max-width: 50ex;\n",
       "  color: var(--sklearn-color-text);\n",
       "  box-shadow: 2pt 2pt 4pt #999;\n",
       "  /* unfitted */\n",
       "  background: var(--sklearn-color-unfitted-level-0);\n",
       "  border: .5pt solid var(--sklearn-color-unfitted-level-3);\n",
       "}\n",
       "\n",
       ".sk-estimator-doc-link.fitted span {\n",
       "  /* fitted */\n",
       "  background: var(--sklearn-color-fitted-level-0);\n",
       "  border: var(--sklearn-color-fitted-level-3);\n",
       "}\n",
       "\n",
       ".sk-estimator-doc-link:hover span {\n",
       "  display: block;\n",
       "}\n",
       "\n",
       "/* \"?\"-specific style due to the `<a>` HTML tag */\n",
       "\n",
       "#sk-container-id-1 a.estimator_doc_link {\n",
       "  float: right;\n",
       "  font-size: 1rem;\n",
       "  line-height: 1em;\n",
       "  font-family: monospace;\n",
       "  background-color: var(--sklearn-color-background);\n",
       "  border-radius: 1rem;\n",
       "  height: 1rem;\n",
       "  width: 1rem;\n",
       "  text-decoration: none;\n",
       "  /* unfitted */\n",
       "  color: var(--sklearn-color-unfitted-level-1);\n",
       "  border: var(--sklearn-color-unfitted-level-1) 1pt solid;\n",
       "}\n",
       "\n",
       "#sk-container-id-1 a.estimator_doc_link.fitted {\n",
       "  /* fitted */\n",
       "  border: var(--sklearn-color-fitted-level-1) 1pt solid;\n",
       "  color: var(--sklearn-color-fitted-level-1);\n",
       "}\n",
       "\n",
       "/* On hover */\n",
       "#sk-container-id-1 a.estimator_doc_link:hover {\n",
       "  /* unfitted */\n",
       "  background-color: var(--sklearn-color-unfitted-level-3);\n",
       "  color: var(--sklearn-color-background);\n",
       "  text-decoration: none;\n",
       "}\n",
       "\n",
       "#sk-container-id-1 a.estimator_doc_link.fitted:hover {\n",
       "  /* fitted */\n",
       "  background-color: var(--sklearn-color-fitted-level-3);\n",
       "}\n",
       "</style><div id=\"sk-container-id-1\" class=\"sk-top-container\"><div class=\"sk-text-repr-fallback\"><pre>LinearRegression()</pre><b>In a Jupyter environment, please rerun this cell to show the HTML representation or trust the notebook. <br />On GitHub, the HTML representation is unable to render, please try loading this page with nbviewer.org.</b></div><div class=\"sk-container\" hidden><div class=\"sk-item\"><div class=\"sk-estimator fitted sk-toggleable\"><input class=\"sk-toggleable__control sk-hidden--visually\" id=\"sk-estimator-id-1\" type=\"checkbox\" checked><label for=\"sk-estimator-id-1\" class=\"sk-toggleable__label fitted sk-toggleable__label-arrow\"><div><div>LinearRegression</div></div><div><a class=\"sk-estimator-doc-link fitted\" rel=\"noreferrer\" target=\"_blank\" href=\"https://scikit-learn.org/1.6/modules/generated/sklearn.linear_model.LinearRegression.html\">?<span>Documentation for LinearRegression</span></a><span class=\"sk-estimator-doc-link fitted\">i<span>Fitted</span></span></div></label><div class=\"sk-toggleable__content fitted\"><pre>LinearRegression()</pre></div> </div></div></div></div>"
      ],
      "text/plain": [
       "LinearRegression()"
      ]
     },
     "execution_count": 26,
     "metadata": {},
     "output_type": "execute_result"
    }
   ],
   "source": [
    "lr_model = LinearRegression()\n",
    "lr_model.fit(X_train, y_train)"
   ]
  },
  {
   "cell_type": "code",
   "execution_count": 27,
   "id": "b4e93918",
   "metadata": {},
   "outputs": [],
   "source": [
    "predicted_ages = lr_model.predict(X_missing)"
   ]
  },
  {
   "cell_type": "code",
   "execution_count": 28,
   "id": "014226da",
   "metadata": {},
   "outputs": [],
   "source": [
    "dataset_B.loc[missing_age_mask, target_column] = predicted_ages"
   ]
  },
  {
   "cell_type": "code",
   "execution_count": 29,
   "id": "8383c878",
   "metadata": {},
   "outputs": [
    {
     "name": "stdout",
     "output_type": "stream",
     "text": [
      "AGE             0\n",
      "BILL_AMT1    1500\n",
      "dtype: int64\n"
     ]
    }
   ],
   "source": [
    "print(dataset_B[['AGE', 'BILL_AMT1']].isna().sum())"
   ]
  },
  {
   "cell_type": "markdown",
   "id": "0d4fcd5b",
   "metadata": {},
   "source": [
    "Filled all missing `AGE` vals. "
   ]
  },
  {
   "cell_type": "code",
   "execution_count": 30,
   "id": "3b4644b7",
   "metadata": {},
   "outputs": [
    {
     "name": "stdout",
     "output_type": "stream",
     "text": [
      "(30000, 25)\n"
     ]
    }
   ],
   "source": [
    "print(dataset_B.shape)"
   ]
  },
  {
   "cell_type": "code",
   "execution_count": 33,
   "id": "c2caef51",
   "metadata": {},
   "outputs": [
    {
     "name": "stdout",
     "output_type": "stream",
     "text": [
      "for imputed ages:\n",
      "mean: 35.46\n",
      "std dev: 4.31\n",
      "min, max: 24.27, 48.82\n"
     ]
    }
   ],
   "source": [
    "print(f'for imputed ages:')\n",
    "print(f'mean: {predicted_ages.mean():.2f}')\n",
    "print(f'std dev: {predicted_ages.std():.2f}')\n",
    "print(f'min, max: {predicted_ages.min():.2f}, {predicted_ages.max():.2f}')"
   ]
  },
  {
   "cell_type": "markdown",
   "id": "adb07bdd",
   "metadata": {},
   "source": [
    "Explanation of MAR (Missing At Random) assumption:\n",
    "The Linear Regression imputation method assumes the data is Missing At Random (MAR). \n",
    "This means that the probability of a value being missing depends only on other observed \n",
    "variables in the dataset, not on the missing value itself or unobserved variables.\n",
    "\n",
    "In our case, we assume that whether AGE is missing can be explained by the other \n",
    "features we used as predictors (LIMIT_BAL, SEX, EDUCATION, etc.), not by the actual \n",
    "AGE value that we don't know. If this assumption holds, regression imputation can \n",
    "provide more accurate estimates than simple methods like median imputation."
   ]
  },
  {
   "cell_type": "markdown",
   "id": "78b0f282",
   "metadata": {},
   "source": [
    "For Dataset B, we imputed the missing values in the AGE column using Linear Regression. Only fully observed features (i.e., columns without missing values) were used as predictors, ensuring that the regression model could be trained without any NaNs. The Linear Regression model predicts the missing AGE values based on patterns in the other features. This method relies on the assumption that the missingness is Missing At Random (MAR) — meaning that the probability of a value being missing depends only on observed data and not on the missing value itself. This approach allows us to generate more informed imputations than simply using the median or mean."
   ]
  },
  {
   "cell_type": "markdown",
   "id": "538dac5d",
   "metadata": {},
   "source": [
    "### Dataset C: Imputation using Regression (non-linear)"
   ]
  },
  {
   "cell_type": "code",
   "execution_count": 39,
   "id": "edb45bb7",
   "metadata": {},
   "outputs": [
    {
     "name": "stdout",
     "output_type": "stream",
     "text": [
      "AGE          1500\n",
      "BILL_AMT1    1500\n",
      "dtype: int64\n"
     ]
    }
   ],
   "source": [
    "dataset_C = df_with_missing.copy()\n",
    "print(dataset_C[['AGE', 'BILL_AMT1']].isna().sum())\n",
    "target_column = 'AGE'"
   ]
  },
  {
   "cell_type": "code",
   "execution_count": 40,
   "id": "ab43616a",
   "metadata": {},
   "outputs": [],
   "source": [
    "missing_age_mask = dataset_C[target_column].isna()\n",
    "non_missing_data = dataset_C[~missing_age_mask]  # without missin g ages\n",
    "missing_data = dataset_C[missing_age_mask]       # with missing ages"
   ]
  },
  {
   "cell_type": "markdown",
   "id": "de43d57a",
   "metadata": {},
   "source": [
    "There should be 1500 missing."
   ]
  },
  {
   "cell_type": "code",
   "execution_count": 43,
   "id": "51404fa6",
   "metadata": {},
   "outputs": [
    {
     "name": "stdout",
     "output_type": "stream",
     "text": [
      "features used for predicting age: \n",
      "['LIMIT_BAL', 'SEX', 'EDUCATION', 'MARRIAGE', 'PAY_0', 'PAY_2', 'PAY_3', 'PAY_4', 'PAY_5', 'PAY_6', 'BILL_AMT2', 'BILL_AMT3', 'BILL_AMT4', 'BILL_AMT5', 'BILL_AMT6', 'PAY_AMT1', 'PAY_AMT2', 'PAY_AMT3', 'PAY_AMT4', 'PAY_AMT5', 'PAY_AMT6']\n"
     ]
    }
   ],
   "source": [
    "exclude_cols = ['ID', target_column, 'default.payment.next.month', 'BILL_AMT1']\n",
    "feature_columns = [col for col in dataset_C.columns if col not in exclude_cols]\n",
    "print(f'features used for predicting age: \\n{feature_columns}')"
   ]
  },
  {
   "cell_type": "code",
   "execution_count": 45,
   "id": "1500df16",
   "metadata": {},
   "outputs": [],
   "source": [
    "X_train = non_missing_data[feature_columns]\n",
    "y_train = non_missing_data[target_column]\n",
    "\n",
    "X_missing = missing_data[feature_columns]"
   ]
  },
  {
   "cell_type": "code",
   "execution_count": 34,
   "id": "78f1d3f6",
   "metadata": {},
   "outputs": [],
   "source": [
    "from sklearn.neighbors import KNeighborsRegressor\n",
    "from sklearn.preprocessing import StandardScaler"
   ]
  },
  {
   "cell_type": "code",
   "execution_count": 46,
   "id": "13db1470",
   "metadata": {},
   "outputs": [],
   "source": [
    "scaler = StandardScaler()\n",
    "X_train_scaled = scaler.fit_transform(X_train)\n",
    "X_missing_scaled = scaler.transform(X_missing)"
   ]
  },
  {
   "cell_type": "code",
   "execution_count": 47,
   "id": "6fae39a3",
   "metadata": {},
   "outputs": [
    {
     "data": {
      "text/html": [
       "<style>#sk-container-id-3 {\n",
       "  /* Definition of color scheme common for light and dark mode */\n",
       "  --sklearn-color-text: #000;\n",
       "  --sklearn-color-text-muted: #666;\n",
       "  --sklearn-color-line: gray;\n",
       "  /* Definition of color scheme for unfitted estimators */\n",
       "  --sklearn-color-unfitted-level-0: #fff5e6;\n",
       "  --sklearn-color-unfitted-level-1: #f6e4d2;\n",
       "  --sklearn-color-unfitted-level-2: #ffe0b3;\n",
       "  --sklearn-color-unfitted-level-3: chocolate;\n",
       "  /* Definition of color scheme for fitted estimators */\n",
       "  --sklearn-color-fitted-level-0: #f0f8ff;\n",
       "  --sklearn-color-fitted-level-1: #d4ebff;\n",
       "  --sklearn-color-fitted-level-2: #b3dbfd;\n",
       "  --sklearn-color-fitted-level-3: cornflowerblue;\n",
       "\n",
       "  /* Specific color for light theme */\n",
       "  --sklearn-color-text-on-default-background: var(--sg-text-color, var(--theme-code-foreground, var(--jp-content-font-color1, black)));\n",
       "  --sklearn-color-background: var(--sg-background-color, var(--theme-background, var(--jp-layout-color0, white)));\n",
       "  --sklearn-color-border-box: var(--sg-text-color, var(--theme-code-foreground, var(--jp-content-font-color1, black)));\n",
       "  --sklearn-color-icon: #696969;\n",
       "\n",
       "  @media (prefers-color-scheme: dark) {\n",
       "    /* Redefinition of color scheme for dark theme */\n",
       "    --sklearn-color-text-on-default-background: var(--sg-text-color, var(--theme-code-foreground, var(--jp-content-font-color1, white)));\n",
       "    --sklearn-color-background: var(--sg-background-color, var(--theme-background, var(--jp-layout-color0, #111)));\n",
       "    --sklearn-color-border-box: var(--sg-text-color, var(--theme-code-foreground, var(--jp-content-font-color1, white)));\n",
       "    --sklearn-color-icon: #878787;\n",
       "  }\n",
       "}\n",
       "\n",
       "#sk-container-id-3 {\n",
       "  color: var(--sklearn-color-text);\n",
       "}\n",
       "\n",
       "#sk-container-id-3 pre {\n",
       "  padding: 0;\n",
       "}\n",
       "\n",
       "#sk-container-id-3 input.sk-hidden--visually {\n",
       "  border: 0;\n",
       "  clip: rect(1px 1px 1px 1px);\n",
       "  clip: rect(1px, 1px, 1px, 1px);\n",
       "  height: 1px;\n",
       "  margin: -1px;\n",
       "  overflow: hidden;\n",
       "  padding: 0;\n",
       "  position: absolute;\n",
       "  width: 1px;\n",
       "}\n",
       "\n",
       "#sk-container-id-3 div.sk-dashed-wrapped {\n",
       "  border: 1px dashed var(--sklearn-color-line);\n",
       "  margin: 0 0.4em 0.5em 0.4em;\n",
       "  box-sizing: border-box;\n",
       "  padding-bottom: 0.4em;\n",
       "  background-color: var(--sklearn-color-background);\n",
       "}\n",
       "\n",
       "#sk-container-id-3 div.sk-container {\n",
       "  /* jupyter's `normalize.less` sets `[hidden] { display: none; }`\n",
       "     but bootstrap.min.css set `[hidden] { display: none !important; }`\n",
       "     so we also need the `!important` here to be able to override the\n",
       "     default hidden behavior on the sphinx rendered scikit-learn.org.\n",
       "     See: https://github.com/scikit-learn/scikit-learn/issues/21755 */\n",
       "  display: inline-block !important;\n",
       "  position: relative;\n",
       "}\n",
       "\n",
       "#sk-container-id-3 div.sk-text-repr-fallback {\n",
       "  display: none;\n",
       "}\n",
       "\n",
       "div.sk-parallel-item,\n",
       "div.sk-serial,\n",
       "div.sk-item {\n",
       "  /* draw centered vertical line to link estimators */\n",
       "  background-image: linear-gradient(var(--sklearn-color-text-on-default-background), var(--sklearn-color-text-on-default-background));\n",
       "  background-size: 2px 100%;\n",
       "  background-repeat: no-repeat;\n",
       "  background-position: center center;\n",
       "}\n",
       "\n",
       "/* Parallel-specific style estimator block */\n",
       "\n",
       "#sk-container-id-3 div.sk-parallel-item::after {\n",
       "  content: \"\";\n",
       "  width: 100%;\n",
       "  border-bottom: 2px solid var(--sklearn-color-text-on-default-background);\n",
       "  flex-grow: 1;\n",
       "}\n",
       "\n",
       "#sk-container-id-3 div.sk-parallel {\n",
       "  display: flex;\n",
       "  align-items: stretch;\n",
       "  justify-content: center;\n",
       "  background-color: var(--sklearn-color-background);\n",
       "  position: relative;\n",
       "}\n",
       "\n",
       "#sk-container-id-3 div.sk-parallel-item {\n",
       "  display: flex;\n",
       "  flex-direction: column;\n",
       "}\n",
       "\n",
       "#sk-container-id-3 div.sk-parallel-item:first-child::after {\n",
       "  align-self: flex-end;\n",
       "  width: 50%;\n",
       "}\n",
       "\n",
       "#sk-container-id-3 div.sk-parallel-item:last-child::after {\n",
       "  align-self: flex-start;\n",
       "  width: 50%;\n",
       "}\n",
       "\n",
       "#sk-container-id-3 div.sk-parallel-item:only-child::after {\n",
       "  width: 0;\n",
       "}\n",
       "\n",
       "/* Serial-specific style estimator block */\n",
       "\n",
       "#sk-container-id-3 div.sk-serial {\n",
       "  display: flex;\n",
       "  flex-direction: column;\n",
       "  align-items: center;\n",
       "  background-color: var(--sklearn-color-background);\n",
       "  padding-right: 1em;\n",
       "  padding-left: 1em;\n",
       "}\n",
       "\n",
       "\n",
       "/* Toggleable style: style used for estimator/Pipeline/ColumnTransformer box that is\n",
       "clickable and can be expanded/collapsed.\n",
       "- Pipeline and ColumnTransformer use this feature and define the default style\n",
       "- Estimators will overwrite some part of the style using the `sk-estimator` class\n",
       "*/\n",
       "\n",
       "/* Pipeline and ColumnTransformer style (default) */\n",
       "\n",
       "#sk-container-id-3 div.sk-toggleable {\n",
       "  /* Default theme specific background. It is overwritten whether we have a\n",
       "  specific estimator or a Pipeline/ColumnTransformer */\n",
       "  background-color: var(--sklearn-color-background);\n",
       "}\n",
       "\n",
       "/* Toggleable label */\n",
       "#sk-container-id-3 label.sk-toggleable__label {\n",
       "  cursor: pointer;\n",
       "  display: flex;\n",
       "  width: 100%;\n",
       "  margin-bottom: 0;\n",
       "  padding: 0.5em;\n",
       "  box-sizing: border-box;\n",
       "  text-align: center;\n",
       "  align-items: start;\n",
       "  justify-content: space-between;\n",
       "  gap: 0.5em;\n",
       "}\n",
       "\n",
       "#sk-container-id-3 label.sk-toggleable__label .caption {\n",
       "  font-size: 0.6rem;\n",
       "  font-weight: lighter;\n",
       "  color: var(--sklearn-color-text-muted);\n",
       "}\n",
       "\n",
       "#sk-container-id-3 label.sk-toggleable__label-arrow:before {\n",
       "  /* Arrow on the left of the label */\n",
       "  content: \"▸\";\n",
       "  float: left;\n",
       "  margin-right: 0.25em;\n",
       "  color: var(--sklearn-color-icon);\n",
       "}\n",
       "\n",
       "#sk-container-id-3 label.sk-toggleable__label-arrow:hover:before {\n",
       "  color: var(--sklearn-color-text);\n",
       "}\n",
       "\n",
       "/* Toggleable content - dropdown */\n",
       "\n",
       "#sk-container-id-3 div.sk-toggleable__content {\n",
       "  max-height: 0;\n",
       "  max-width: 0;\n",
       "  overflow: hidden;\n",
       "  text-align: left;\n",
       "  /* unfitted */\n",
       "  background-color: var(--sklearn-color-unfitted-level-0);\n",
       "}\n",
       "\n",
       "#sk-container-id-3 div.sk-toggleable__content.fitted {\n",
       "  /* fitted */\n",
       "  background-color: var(--sklearn-color-fitted-level-0);\n",
       "}\n",
       "\n",
       "#sk-container-id-3 div.sk-toggleable__content pre {\n",
       "  margin: 0.2em;\n",
       "  border-radius: 0.25em;\n",
       "  color: var(--sklearn-color-text);\n",
       "  /* unfitted */\n",
       "  background-color: var(--sklearn-color-unfitted-level-0);\n",
       "}\n",
       "\n",
       "#sk-container-id-3 div.sk-toggleable__content.fitted pre {\n",
       "  /* unfitted */\n",
       "  background-color: var(--sklearn-color-fitted-level-0);\n",
       "}\n",
       "\n",
       "#sk-container-id-3 input.sk-toggleable__control:checked~div.sk-toggleable__content {\n",
       "  /* Expand drop-down */\n",
       "  max-height: 200px;\n",
       "  max-width: 100%;\n",
       "  overflow: auto;\n",
       "}\n",
       "\n",
       "#sk-container-id-3 input.sk-toggleable__control:checked~label.sk-toggleable__label-arrow:before {\n",
       "  content: \"▾\";\n",
       "}\n",
       "\n",
       "/* Pipeline/ColumnTransformer-specific style */\n",
       "\n",
       "#sk-container-id-3 div.sk-label input.sk-toggleable__control:checked~label.sk-toggleable__label {\n",
       "  color: var(--sklearn-color-text);\n",
       "  background-color: var(--sklearn-color-unfitted-level-2);\n",
       "}\n",
       "\n",
       "#sk-container-id-3 div.sk-label.fitted input.sk-toggleable__control:checked~label.sk-toggleable__label {\n",
       "  background-color: var(--sklearn-color-fitted-level-2);\n",
       "}\n",
       "\n",
       "/* Estimator-specific style */\n",
       "\n",
       "/* Colorize estimator box */\n",
       "#sk-container-id-3 div.sk-estimator input.sk-toggleable__control:checked~label.sk-toggleable__label {\n",
       "  /* unfitted */\n",
       "  background-color: var(--sklearn-color-unfitted-level-2);\n",
       "}\n",
       "\n",
       "#sk-container-id-3 div.sk-estimator.fitted input.sk-toggleable__control:checked~label.sk-toggleable__label {\n",
       "  /* fitted */\n",
       "  background-color: var(--sklearn-color-fitted-level-2);\n",
       "}\n",
       "\n",
       "#sk-container-id-3 div.sk-label label.sk-toggleable__label,\n",
       "#sk-container-id-3 div.sk-label label {\n",
       "  /* The background is the default theme color */\n",
       "  color: var(--sklearn-color-text-on-default-background);\n",
       "}\n",
       "\n",
       "/* On hover, darken the color of the background */\n",
       "#sk-container-id-3 div.sk-label:hover label.sk-toggleable__label {\n",
       "  color: var(--sklearn-color-text);\n",
       "  background-color: var(--sklearn-color-unfitted-level-2);\n",
       "}\n",
       "\n",
       "/* Label box, darken color on hover, fitted */\n",
       "#sk-container-id-3 div.sk-label.fitted:hover label.sk-toggleable__label.fitted {\n",
       "  color: var(--sklearn-color-text);\n",
       "  background-color: var(--sklearn-color-fitted-level-2);\n",
       "}\n",
       "\n",
       "/* Estimator label */\n",
       "\n",
       "#sk-container-id-3 div.sk-label label {\n",
       "  font-family: monospace;\n",
       "  font-weight: bold;\n",
       "  display: inline-block;\n",
       "  line-height: 1.2em;\n",
       "}\n",
       "\n",
       "#sk-container-id-3 div.sk-label-container {\n",
       "  text-align: center;\n",
       "}\n",
       "\n",
       "/* Estimator-specific */\n",
       "#sk-container-id-3 div.sk-estimator {\n",
       "  font-family: monospace;\n",
       "  border: 1px dotted var(--sklearn-color-border-box);\n",
       "  border-radius: 0.25em;\n",
       "  box-sizing: border-box;\n",
       "  margin-bottom: 0.5em;\n",
       "  /* unfitted */\n",
       "  background-color: var(--sklearn-color-unfitted-level-0);\n",
       "}\n",
       "\n",
       "#sk-container-id-3 div.sk-estimator.fitted {\n",
       "  /* fitted */\n",
       "  background-color: var(--sklearn-color-fitted-level-0);\n",
       "}\n",
       "\n",
       "/* on hover */\n",
       "#sk-container-id-3 div.sk-estimator:hover {\n",
       "  /* unfitted */\n",
       "  background-color: var(--sklearn-color-unfitted-level-2);\n",
       "}\n",
       "\n",
       "#sk-container-id-3 div.sk-estimator.fitted:hover {\n",
       "  /* fitted */\n",
       "  background-color: var(--sklearn-color-fitted-level-2);\n",
       "}\n",
       "\n",
       "/* Specification for estimator info (e.g. \"i\" and \"?\") */\n",
       "\n",
       "/* Common style for \"i\" and \"?\" */\n",
       "\n",
       ".sk-estimator-doc-link,\n",
       "a:link.sk-estimator-doc-link,\n",
       "a:visited.sk-estimator-doc-link {\n",
       "  float: right;\n",
       "  font-size: smaller;\n",
       "  line-height: 1em;\n",
       "  font-family: monospace;\n",
       "  background-color: var(--sklearn-color-background);\n",
       "  border-radius: 1em;\n",
       "  height: 1em;\n",
       "  width: 1em;\n",
       "  text-decoration: none !important;\n",
       "  margin-left: 0.5em;\n",
       "  text-align: center;\n",
       "  /* unfitted */\n",
       "  border: var(--sklearn-color-unfitted-level-1) 1pt solid;\n",
       "  color: var(--sklearn-color-unfitted-level-1);\n",
       "}\n",
       "\n",
       ".sk-estimator-doc-link.fitted,\n",
       "a:link.sk-estimator-doc-link.fitted,\n",
       "a:visited.sk-estimator-doc-link.fitted {\n",
       "  /* fitted */\n",
       "  border: var(--sklearn-color-fitted-level-1) 1pt solid;\n",
       "  color: var(--sklearn-color-fitted-level-1);\n",
       "}\n",
       "\n",
       "/* On hover */\n",
       "div.sk-estimator:hover .sk-estimator-doc-link:hover,\n",
       ".sk-estimator-doc-link:hover,\n",
       "div.sk-label-container:hover .sk-estimator-doc-link:hover,\n",
       ".sk-estimator-doc-link:hover {\n",
       "  /* unfitted */\n",
       "  background-color: var(--sklearn-color-unfitted-level-3);\n",
       "  color: var(--sklearn-color-background);\n",
       "  text-decoration: none;\n",
       "}\n",
       "\n",
       "div.sk-estimator.fitted:hover .sk-estimator-doc-link.fitted:hover,\n",
       ".sk-estimator-doc-link.fitted:hover,\n",
       "div.sk-label-container:hover .sk-estimator-doc-link.fitted:hover,\n",
       ".sk-estimator-doc-link.fitted:hover {\n",
       "  /* fitted */\n",
       "  background-color: var(--sklearn-color-fitted-level-3);\n",
       "  color: var(--sklearn-color-background);\n",
       "  text-decoration: none;\n",
       "}\n",
       "\n",
       "/* Span, style for the box shown on hovering the info icon */\n",
       ".sk-estimator-doc-link span {\n",
       "  display: none;\n",
       "  z-index: 9999;\n",
       "  position: relative;\n",
       "  font-weight: normal;\n",
       "  right: .2ex;\n",
       "  padding: .5ex;\n",
       "  margin: .5ex;\n",
       "  width: min-content;\n",
       "  min-width: 20ex;\n",
       "  max-width: 50ex;\n",
       "  color: var(--sklearn-color-text);\n",
       "  box-shadow: 2pt 2pt 4pt #999;\n",
       "  /* unfitted */\n",
       "  background: var(--sklearn-color-unfitted-level-0);\n",
       "  border: .5pt solid var(--sklearn-color-unfitted-level-3);\n",
       "}\n",
       "\n",
       ".sk-estimator-doc-link.fitted span {\n",
       "  /* fitted */\n",
       "  background: var(--sklearn-color-fitted-level-0);\n",
       "  border: var(--sklearn-color-fitted-level-3);\n",
       "}\n",
       "\n",
       ".sk-estimator-doc-link:hover span {\n",
       "  display: block;\n",
       "}\n",
       "\n",
       "/* \"?\"-specific style due to the `<a>` HTML tag */\n",
       "\n",
       "#sk-container-id-3 a.estimator_doc_link {\n",
       "  float: right;\n",
       "  font-size: 1rem;\n",
       "  line-height: 1em;\n",
       "  font-family: monospace;\n",
       "  background-color: var(--sklearn-color-background);\n",
       "  border-radius: 1rem;\n",
       "  height: 1rem;\n",
       "  width: 1rem;\n",
       "  text-decoration: none;\n",
       "  /* unfitted */\n",
       "  color: var(--sklearn-color-unfitted-level-1);\n",
       "  border: var(--sklearn-color-unfitted-level-1) 1pt solid;\n",
       "}\n",
       "\n",
       "#sk-container-id-3 a.estimator_doc_link.fitted {\n",
       "  /* fitted */\n",
       "  border: var(--sklearn-color-fitted-level-1) 1pt solid;\n",
       "  color: var(--sklearn-color-fitted-level-1);\n",
       "}\n",
       "\n",
       "/* On hover */\n",
       "#sk-container-id-3 a.estimator_doc_link:hover {\n",
       "  /* unfitted */\n",
       "  background-color: var(--sklearn-color-unfitted-level-3);\n",
       "  color: var(--sklearn-color-background);\n",
       "  text-decoration: none;\n",
       "}\n",
       "\n",
       "#sk-container-id-3 a.estimator_doc_link.fitted:hover {\n",
       "  /* fitted */\n",
       "  background-color: var(--sklearn-color-fitted-level-3);\n",
       "}\n",
       "</style><div id=\"sk-container-id-3\" class=\"sk-top-container\"><div class=\"sk-text-repr-fallback\"><pre>KNeighborsRegressor()</pre><b>In a Jupyter environment, please rerun this cell to show the HTML representation or trust the notebook. <br />On GitHub, the HTML representation is unable to render, please try loading this page with nbviewer.org.</b></div><div class=\"sk-container\" hidden><div class=\"sk-item\"><div class=\"sk-estimator fitted sk-toggleable\"><input class=\"sk-toggleable__control sk-hidden--visually\" id=\"sk-estimator-id-3\" type=\"checkbox\" checked><label for=\"sk-estimator-id-3\" class=\"sk-toggleable__label fitted sk-toggleable__label-arrow\"><div><div>KNeighborsRegressor</div></div><div><a class=\"sk-estimator-doc-link fitted\" rel=\"noreferrer\" target=\"_blank\" href=\"https://scikit-learn.org/1.6/modules/generated/sklearn.neighbors.KNeighborsRegressor.html\">?<span>Documentation for KNeighborsRegressor</span></a><span class=\"sk-estimator-doc-link fitted\">i<span>Fitted</span></span></div></label><div class=\"sk-toggleable__content fitted\"><pre>KNeighborsRegressor()</pre></div> </div></div></div></div>"
      ],
      "text/plain": [
       "KNeighborsRegressor()"
      ]
     },
     "execution_count": 47,
     "metadata": {},
     "output_type": "execute_result"
    }
   ],
   "source": [
    "knn_model = KNeighborsRegressor(n_neighbors=5, weights='uniform')\n",
    "knn_model.fit(X_train_scaled, y_train)"
   ]
  },
  {
   "cell_type": "code",
   "execution_count": 48,
   "id": "fe428826",
   "metadata": {},
   "outputs": [],
   "source": [
    "predicted_ages_knn = knn_model.predict(X_missing_scaled)"
   ]
  },
  {
   "cell_type": "code",
   "execution_count": 49,
   "id": "725629cc",
   "metadata": {},
   "outputs": [],
   "source": [
    "dataset_C.loc[missing_age_mask, target_column] = predicted_ages_knn"
   ]
  },
  {
   "cell_type": "code",
   "execution_count": 54,
   "id": "f59b8e0a",
   "metadata": {},
   "outputs": [
    {
     "name": "stdout",
     "output_type": "stream",
     "text": [
      "after regressn. imputation (non lin):\n",
      "AGE             0\n",
      "BILL_AMT1    1500\n",
      "dtype: int64\n"
     ]
    }
   ],
   "source": [
    "print('after regressn. imputation (non lin):')\n",
    "print(dataset_C[['AGE', 'BILL_AMT1']].isna().sum())"
   ]
  },
  {
   "cell_type": "code",
   "execution_count": 57,
   "id": "d1d689c9",
   "metadata": {},
   "outputs": [
    {
     "name": "stdout",
     "output_type": "stream",
     "text": [
      "stats of imputed ages:\n",
      "mean: 35.24\n",
      "std dev: 6.03\n",
      "min, max: 23.00, 53.60\n"
     ]
    }
   ],
   "source": [
    "print(f\"stats of imputed ages:\")\n",
    "print(f'mean: {predicted_ages_knn.mean():.2f}')\n",
    "print(f'std dev: {predicted_ages_knn.std():.2f}')\n",
    "print(f'min, max: {predicted_ages_knn.min():.2f}, {predicted_ages_knn.max():.2f}')"
   ]
  },
  {
   "cell_type": "code",
   "execution_count": 61,
   "id": "49fc3683",
   "metadata": {},
   "outputs": [
    {
     "name": "stdout",
     "output_type": "stream",
     "text": [
      "original age stats:\n",
      "mean: 35.50\n",
      "std dev: 9.21\n",
      "min, max: 21.00, 79.00\n"
     ]
    }
   ],
   "source": [
    "print(f'original age stats:')\n",
    "print(f'mean: {y_train.mean():.2f}')\n",
    "print(f'std dev: {y_train.std():.2f}')\n",
    "print(f'min, max: {y_train.min():.2f}, {y_train.max():.2f}')"
   ]
  },
  {
   "cell_type": "markdown",
   "id": "6a22b6aa",
   "metadata": {},
   "source": [
    "For Dataset C, we used a K-Nearest Neighbors (KNN) Regressor to impute the missing AGE values. Similar to the linear regression approach, only fully observed features were used as predictors. The KNN model leverages non-linear relationships between the predictors and AGE by averaging the values of the closest neighbors in feature space. This method can capture more complex patterns than linear regression, potentially providing more accurate imputations when relationships between features and the target are non-linear."
   ]
  },
  {
   "cell_type": "markdown",
   "id": "cdbfeb59",
   "metadata": {},
   "source": [
    "## B: Model Training and Assessment"
   ]
  },
  {
   "cell_type": "markdown",
   "id": "e8e250eb",
   "metadata": {},
   "source": [
    "### Splitting"
   ]
  },
  {
   "cell_type": "markdown",
   "id": "b775bf48",
   "metadata": {},
   "source": [
    "#### Creating dataset D"
   ]
  },
  {
   "cell_type": "markdown",
   "id": "8fb0a5eb",
   "metadata": {},
   "source": [
    "I'll complete the imputation for `BILL_AMT1` in Datasets B and C using median and will use median for simplicity to focus on comparing the AGE imputation methods"
   ]
  },
  {
   "cell_type": "code",
   "execution_count": 62,
   "id": "91d3943e",
   "metadata": {},
   "outputs": [],
   "source": [
    "for dataset in [dataset_B, dataset_C]:\n",
    "    bill_amt1_median = dataset['BILL_AMT1'].median()\n",
    "    dataset['BILL_AMT1'] = dataset['BILL_AMT1'].fillna(bill_amt1_median)"
   ]
  },
  {
   "cell_type": "markdown",
   "id": "2685f597",
   "metadata": {},
   "source": [
    "Doing a sanity check:"
   ]
  },
  {
   "cell_type": "code",
   "execution_count": 70,
   "id": "7beefdce",
   "metadata": {},
   "outputs": [
    {
     "name": "stdout",
     "output_type": "stream",
     "text": [
      "after completing all imputations:\n",
      "Dataset A -> \t AGE: 0 \tBILL_AMT1: 0\n",
      "Dataset B -> \t AGE: 0 \tBILL_AMT1: 0\n",
      "Dataset C -> \t AGE: 0 \tBILL_AMT1: 0\n",
      "\n",
      "shapes: \n",
      "(30000, 25)\n",
      "(30000, 25)\n",
      "(30000, 25)\n"
     ]
    }
   ],
   "source": [
    "print('after completing all imputations:')\n",
    "print(f'Dataset A -> \\t AGE: {dataset_A['AGE'].isna().sum()} \\tBILL_AMT1: {dataset_A['BILL_AMT1'].isna().sum()}')\n",
    "print(f'Dataset B -> \\t AGE: {dataset_B['AGE'].isna().sum()} \\tBILL_AMT1: {dataset_B['BILL_AMT1'].isna().sum()}')\n",
    "print(f'Dataset C -> \\t AGE: {dataset_C['AGE'].isna().sum()} \\tBILL_AMT1: {dataset_C['BILL_AMT1'].isna().sum()}')\n",
    "\n",
    "print(f'\\nshapes: \\n{dataset_A.shape}\\n{dataset_B.shape}\\n{dataset_C.shape}')"
   ]
  },
  {
   "cell_type": "markdown",
   "id": "4d20a6a9",
   "metadata": {},
   "source": [
    "Listwise deletion for the 4th dataset:"
   ]
  },
  {
   "cell_type": "code",
   "execution_count": 73,
   "id": "28665be6",
   "metadata": {},
   "outputs": [
    {
     "name": "stdout",
     "output_type": "stream",
     "text": [
      "shape: (27077, 25)\n",
      "rows removed: 2923\n"
     ]
    }
   ],
   "source": [
    "dataset_D = df_with_missing.dropna().copy()\n",
    "print(f'shape: {dataset_D.shape}')\n",
    "print(f'rows removed: {len(df_with_missing) - len(dataset_D)}')"
   ]
  },
  {
   "cell_type": "code",
   "execution_count": 74,
   "id": "ff8140e3",
   "metadata": {},
   "outputs": [],
   "source": [
    "feature_cols = [col for col in df_with_missing.columns if col not in ['ID', 'default.payment.next.month']]\n",
    "target_col = 'default.payment.next.month'"
   ]
  },
  {
   "cell_type": "code",
   "execution_count": 76,
   "id": "2aaa6ebd",
   "metadata": {},
   "outputs": [
    {
     "name": "stdout",
     "output_type": "stream",
     "text": [
      "feature columns: ['LIMIT_BAL', 'SEX', 'EDUCATION', 'MARRIAGE', 'AGE', 'PAY_0', 'PAY_2', 'PAY_3', 'PAY_4', 'PAY_5', 'PAY_6', 'BILL_AMT1', 'BILL_AMT2', 'BILL_AMT3', 'BILL_AMT4', 'BILL_AMT5', 'BILL_AMT6', 'PAY_AMT1', 'PAY_AMT2', 'PAY_AMT3', 'PAY_AMT4', 'PAY_AMT5', 'PAY_AMT6']\n",
      "len feature columns: 23\n",
      "target column: default.payment.next.month\n"
     ]
    }
   ],
   "source": [
    "print(f'feature columns: {feature_cols}')\n",
    "print(f'len feature columns: {len(feature_cols)}')\n",
    "print(f'target column: {target_col}')"
   ]
  },
  {
   "cell_type": "markdown",
   "id": "55d005ed",
   "metadata": {},
   "source": [
    "#### train_test_split for each of the datasets"
   ]
  },
  {
   "cell_type": "markdown",
   "id": "5062b331",
   "metadata": {},
   "source": [
    "Now the train test split part."
   ]
  },
  {
   "cell_type": "code",
   "execution_count": 77,
   "id": "a5dd7a7c",
   "metadata": {},
   "outputs": [],
   "source": [
    "from sklearn.model_selection import train_test_split"
   ]
  },
  {
   "cell_type": "code",
   "execution_count": 79,
   "id": "0f726839",
   "metadata": {},
   "outputs": [],
   "source": [
    "datasets = {\n",
    "    'A': dataset_A,\n",
    "    'B': dataset_B, \n",
    "    'C': dataset_C,\n",
    "    'D': dataset_D\n",
    "}\n",
    "\n",
    "splits = {}"
   ]
  },
  {
   "cell_type": "code",
   "execution_count": 80,
   "id": "2e2af388",
   "metadata": {},
   "outputs": [
    {
     "name": "stdout",
     "output_type": "stream",
     "text": [
      "dataset A: \n",
      "train: (21000, 23), test: (9000, 23)\n",
      "target distribution: 0.221\n",
      "dataset B: \n",
      "train: (21000, 23), test: (9000, 23)\n",
      "target distribution: 0.221\n",
      "dataset C: \n",
      "train: (21000, 23), test: (9000, 23)\n",
      "target distribution: 0.221\n",
      "dataset D: \n",
      "train: (18953, 23), test: (8124, 23)\n",
      "target distribution: 0.221\n"
     ]
    }
   ],
   "source": [
    "for name, dataset in datasets.items():\n",
    "    X = dataset[feature_cols]\n",
    "    y = dataset[target_col]\n",
    "    \n",
    "    X_train, X_test, y_train, y_test = train_test_split(\n",
    "        X, y, test_size=0.3, random_state=42, stratify=y\n",
    "    )\n",
    "    \n",
    "    splits[name] = {\n",
    "        'X_train': X_train,\n",
    "        'X_test': X_test,\n",
    "        'y_train': y_train,\n",
    "        'y_test': y_test\n",
    "    }\n",
    "    \n",
    "    print(f'dataset {name}: ')\n",
    "    print(f'train: {X_train.shape}, test: {X_test.shape}')\n",
    "    print(f'target distribution: {y_train.mean():.3f}')"
   ]
  },
  {
   "cell_type": "markdown",
   "id": "a031fb0e",
   "metadata": {},
   "source": [
    "### setting up classifiers"
   ]
  },
  {
   "cell_type": "markdown",
   "id": "a377500d",
   "metadata": {},
   "source": [
    "I'll standardize the features in the 4 datasets."
   ]
  },
  {
   "cell_type": "code",
   "execution_count": 81,
   "id": "3c0678a9",
   "metadata": {},
   "outputs": [],
   "source": [
    "scalers = {}\n",
    "scaled_splits = {}"
   ]
  },
  {
   "cell_type": "code",
   "execution_count": 82,
   "id": "982b5f6b",
   "metadata": {},
   "outputs": [
    {
     "name": "stdout",
     "output_type": "stream",
     "text": [
      "dataset A:\n",
      "train mean: -0.0000, \n",
      "std dev: 1.0000\n",
      "\n",
      "dataset B:\n",
      "train mean: -0.0000, \n",
      "std dev: 1.0000\n",
      "\n",
      "dataset C:\n",
      "train mean: 0.0000, \n",
      "std dev: 1.0000\n",
      "\n",
      "dataset D:\n",
      "train mean: 0.0000, \n",
      "std dev: 1.0000\n",
      "\n"
     ]
    }
   ],
   "source": [
    "for name in splits.keys():\n",
    "    scaler = StandardScaler()\n",
    "    \n",
    "    X_train_scaled = scaler.fit_transform(splits[name]['X_train'])\n",
    "    X_test_scaled = scaler.transform(splits[name]['X_test'])\n",
    "    \n",
    "    scalers[name] = scaler\n",
    "    scaled_splits[name] = {\n",
    "        'X_train': X_train_scaled,\n",
    "        'X_test': X_test_scaled,\n",
    "        'y_train': splits[name]['y_train'],\n",
    "        'y_test': splits[name]['y_test']\n",
    "    }\n",
    "    \n",
    "    print(f'dataset {name}:')\n",
    "    print(f'train mean: {X_train_scaled.mean():.4f}, \\nstd dev: {X_train_scaled.std():.4f}\\n')"
   ]
  },
  {
   "cell_type": "markdown",
   "id": "d5771c49",
   "metadata": {},
   "source": [
    "### model evaluation"
   ]
  },
  {
   "cell_type": "code",
   "execution_count": 83,
   "id": "50918cf7",
   "metadata": {},
   "outputs": [],
   "source": [
    "from sklearn.linear_model import LogisticRegression\n",
    "from sklearn.metrics import classification_report, accuracy_score, f1_score, precision_score, recall_score"
   ]
  },
  {
   "cell_type": "code",
   "execution_count": 84,
   "id": "fc61e406",
   "metadata": {},
   "outputs": [],
   "source": [
    "models = {}\n",
    "results = {}"
   ]
  },
  {
   "cell_type": "code",
   "execution_count": 85,
   "id": "3a3c4298",
   "metadata": {},
   "outputs": [
    {
     "name": "stdout",
     "output_type": "stream",
     "text": [
      "\n",
      "--------------------------------------------------\n",
      "eval on dataset A\n",
      "--------------------------------------------------\n",
      "classification report for dataset A:\n",
      "              precision    recall  f1-score   support\n",
      "\n",
      "           0     0.8175    0.9710    0.8877      7009\n",
      "           1     0.6993    0.2371    0.3541      1991\n",
      "\n",
      "    accuracy                         0.8087      9000\n",
      "   macro avg     0.7584    0.6041    0.6209      9000\n",
      "weighted avg     0.7914    0.8087    0.7697      9000\n",
      "\n",
      "\tacc:  0.8087\n",
      "\tprec: 0.6993\n",
      "\trecall:    0.2371\n",
      "\tf1-score:  0.3541\n",
      "\n",
      "--------------------------------------------------\n",
      "eval on dataset B\n",
      "--------------------------------------------------\n",
      "classification report for dataset B:\n",
      "              precision    recall  f1-score   support\n",
      "\n",
      "           0     0.8173    0.9708    0.8874      7009\n",
      "           1     0.6963    0.2361    0.3526      1991\n",
      "\n",
      "    accuracy                         0.8082      9000\n",
      "   macro avg     0.7568    0.6034    0.6200      9000\n",
      "weighted avg     0.7905    0.8082    0.7691      9000\n",
      "\n",
      "\tacc:  0.8082\n",
      "\tprec: 0.6963\n",
      "\trecall:    0.2361\n",
      "\tf1-score:  0.3526\n",
      "\n",
      "--------------------------------------------------\n",
      "eval on dataset C\n",
      "--------------------------------------------------\n",
      "classification report for dataset C:\n",
      "              precision    recall  f1-score   support\n",
      "\n",
      "           0     0.8174    0.9709    0.8876      7009\n",
      "           1     0.6978    0.2366    0.3533      1991\n",
      "\n",
      "    accuracy                         0.8084      9000\n",
      "   macro avg     0.7576    0.6037    0.6205      9000\n",
      "weighted avg     0.7910    0.8084    0.7694      9000\n",
      "\n",
      "\tacc:  0.8084\n",
      "\tprec: 0.6978\n",
      "\trecall:    0.2366\n",
      "\tf1-score:  0.3533\n",
      "\n",
      "--------------------------------------------------\n",
      "eval on dataset D\n",
      "--------------------------------------------------\n",
      "classification report for dataset D:\n",
      "              precision    recall  f1-score   support\n",
      "\n",
      "           0     0.8173    0.9697    0.8870      6331\n",
      "           1     0.6868    0.2348    0.3500      1793\n",
      "\n",
      "    accuracy                         0.8075      8124\n",
      "   macro avg     0.7521    0.6022    0.6185      8124\n",
      "weighted avg     0.7885    0.8075    0.7685      8124\n",
      "\n",
      "\tacc:  0.8075\n",
      "\tprec: 0.6868\n",
      "\trecall:    0.2348\n",
      "\tf1-score:  0.3500\n"
     ]
    }
   ],
   "source": [
    "for name in scaled_splits.keys():\n",
    "    print(f\"\\n{'-'*50}\")\n",
    "    print(f\"eval on dataset {name}\")\n",
    "    print(f\"{'-'*50}\")\n",
    "    \n",
    "    lr_model = LogisticRegression(random_state=42, max_iter=1000)\n",
    "    lr_model.fit(scaled_splits[name]['X_train'], scaled_splits[name]['y_train'])\n",
    "    \n",
    "    y_pred = lr_model.predict(scaled_splits[name]['X_test'])\n",
    "    \n",
    "    models[name] = lr_model\n",
    "    results[name] = {\n",
    "        'y_true': scaled_splits[name]['y_test'],\n",
    "        'y_pred': y_pred\n",
    "    }\n",
    "    \n",
    "    accuracy = accuracy_score(scaled_splits[name]['y_test'], y_pred)\n",
    "    precision = precision_score(scaled_splits[name]['y_test'], y_pred)\n",
    "    recall = recall_score(scaled_splits[name]['y_test'], y_pred)\n",
    "    f1 = f1_score(scaled_splits[name]['y_test'], y_pred)\n",
    "    \n",
    "    results[name]['metrics'] = {\n",
    "        'Accuracy': accuracy,\n",
    "        'Precision': precision,\n",
    "        'Recall': recall,\n",
    "        'F1-Score': f1\n",
    "    }\n",
    "    \n",
    "    print(f\"classification report for dataset {name}:\")\n",
    "    print(classification_report(scaled_splits[name]['y_test'], y_pred, digits=4))\n",
    "    \n",
    "    print(f\"\\tacc:  {accuracy:.4f}\")\n",
    "    print(f\"\\tprec: {precision:.4f}\")\n",
    "    print(f\"\\trecall:    {recall:.4f}\")\n",
    "    print(f\"\\tf1-score:  {f1:.4f}\")"
   ]
  },
  {
   "cell_type": "code",
   "execution_count": 87,
   "id": "f3de2bc8",
   "metadata": {},
   "outputs": [],
   "source": [
    "output = '''\n",
    "Output is:\n",
    "--------------------------------------------------\n",
    "eval on dataset A\n",
    "--------------------------------------------------\n",
    "classification report for dataset A:\n",
    "              precision    recall  f1-score   support\n",
    "\n",
    "           0     0.8175    0.9710    0.8877      7009\n",
    "           1     0.6993    0.2371    0.3541      1991\n",
    "\n",
    "    accuracy                         0.8087      9000\n",
    "   macro avg     0.7584    0.6041    0.6209      9000\n",
    "weighted avg     0.7914    0.8087    0.7697      9000\n",
    "\n",
    "\tacc:  0.8087\n",
    "\tprec: 0.6993\n",
    "\trecall:    0.2371\n",
    "\tf1-score:  0.3541\n",
    "\n",
    "--------------------------------------------------\n",
    "eval on dataset B\n",
    "--------------------------------------------------\n",
    "classification report for dataset B:\n",
    "              precision    recall  f1-score   support\n",
    "\n",
    "           0     0.8173    0.9708    0.8874      7009\n",
    "           1     0.6963    0.2361    0.3526      1991\n",
    "\n",
    "    accuracy                         0.8082      9000\n",
    "   macro avg     0.7568    0.6034    0.6200      9000\n",
    "weighted avg     0.7905    0.8082    0.7691      9000\n",
    "\n",
    "\tacc:  0.8082\n",
    "\tprec: 0.6963\n",
    "\trecall:    0.2361\n",
    "\tf1-score:  0.3526\n",
    "\n",
    "--------------------------------------------------\n",
    "eval on dataset C\n",
    "--------------------------------------------------\n",
    "classification report for dataset C:\n",
    "              precision    recall  f1-score   support\n",
    "\n",
    "           0     0.8174    0.9709    0.8876      7009\n",
    "           1     0.6978    0.2366    0.3533      1991\n",
    "\n",
    "    accuracy                         0.8084      9000\n",
    "   macro avg     0.7576    0.6037    0.6205      9000\n",
    "weighted avg     0.7910    0.8084    0.7694      9000\n",
    "\n",
    "\tacc:  0.8084\n",
    "\tprec: 0.6978\n",
    "\trecall:    0.2366\n",
    "\tf1-score:  0.3533\n",
    "\n",
    "--------------------------------------------------\n",
    "eval on dataset D\n",
    "--------------------------------------------------\n",
    "classification report for dataset D:\n",
    "              precision    recall  f1-score   support\n",
    "\n",
    "           0     0.8173    0.9697    0.8870      6331\n",
    "           1     0.6868    0.2348    0.3500      1793\n",
    "\n",
    "    accuracy                         0.8075      8124\n",
    "   macro avg     0.7521    0.6022    0.6185      8124\n",
    "weighted avg     0.7885    0.8075    0.7685      8124\n",
    "\n",
    "\tacc:  0.8075\n",
    "\tprec: 0.6868\n",
    "\trecall:    0.2348\n",
    "\tf1-score:  0.3500\n",
    "'''"
   ]
  },
  {
   "cell_type": "markdown",
   "id": "694fea80",
   "metadata": {},
   "source": [
    "## C: Comparative analysis"
   ]
  },
  {
   "cell_type": "markdown",
   "id": "7b308853",
   "metadata": {},
   "source": [
    "### Comparing Results"
   ]
  },
  {
   "cell_type": "code",
   "execution_count": 100,
   "id": "2c17cd84",
   "metadata": {},
   "outputs": [
    {
     "name": "stdout",
     "output_type": "stream",
     "text": [
      "comparative analysis\n",
      "\n",
      "-----------------------\n",
      "summary table:\n",
      "-----------------------\n",
      "   Dataset             Imputation Method  Samples Used Accuracy Precision  Recall F1-Score\n",
      "0  Model A             Median Imputation         30000   0.8087    0.6993  0.2371   0.3541\n",
      "1  Model B  Linear Regression Imputation         30000   0.8082    0.6963  0.2361   0.3526\n",
      "2  Model C     KNN Regression Imputation         30000   0.8084    0.6978  0.2366   0.3533\n",
      "3  Model D             Listwise Deletion         27077   0.8075    0.6868  0.2348   0.3500\n",
      "\n",
      "-----------------------\n",
      "for metrics, best method (in this run): \n",
      "-----------------------\n",
      "Accuracy  : Model A (Median Imputation) - 0.8087\n",
      "Precision : Model A (Median Imputation) - 0.6993\n",
      "Recall    : Model A (Median Imputation) - 0.2371\n",
      "F1-Score  : Model A (Median Imputation) - 0.3541\n"
     ]
    }
   ],
   "source": [
    "print(\"comparative analysis\")\n",
    "# print(\"-\" * 23)\n",
    "\n",
    "summary_data = []\n",
    "for name in ['A', 'B', 'C', 'D']:\n",
    "    metrics = results[name]['metrics']\n",
    "    summary_data.append({\n",
    "        'Dataset': f'Model {name}',\n",
    "        'Imputation Method': {\n",
    "            'A': 'Median Imputation',\n",
    "            'B': 'Linear Regression Imputation',\n",
    "            'C': 'KNN Regression Imputation', \n",
    "            'D': 'Listwise Deletion'\n",
    "        }[name],\n",
    "        'Samples Used': len(scaled_splits[name]['X_train']) + len(scaled_splits[name]['X_test']),\n",
    "        'Accuracy': f\"{metrics['Accuracy']:.4f}\",\n",
    "        'Precision': f\"{metrics['Precision']:.4f}\",\n",
    "        'Recall': f\"{metrics['Recall']:.4f}\",\n",
    "        'F1-Score': f\"{metrics['F1-Score']:.4f}\"\n",
    "    })\n",
    "    \n",
    "summary_df = pd.DataFrame(summary_data)\n",
    "print()\n",
    "print(\"-\" * 23)\n",
    "print(\"summary table:\")\n",
    "print(\"-\" * 23)\n",
    "print(summary_df.to_string())\n",
    "\n",
    "print(\"\\n\" + \"-\" * 23)\n",
    "print(\"for metrics, best method (in this run): \")\n",
    "print('-' * 23)\n",
    "\n",
    "metrics_to_compare = ['Accuracy', 'Precision', 'Recall', 'F1-Score']\n",
    "for metric in metrics_to_compare:\n",
    "    best_value = 0\n",
    "    best_method = \"\"\n",
    "    for name in ['A', 'B', 'C', 'D']:\n",
    "        value = results[name]['metrics'][metric]\n",
    "        if value > best_value:\n",
    "            best_value = value\n",
    "            best_method = f\"Model {name} ({summary_data[int(ord(name) - ord('A'))]['Imputation Method']})\"\n",
    "    print(f\"{metric:10}: {best_method} - {best_value:.4f}\")"
   ]
  },
  {
   "cell_type": "code",
   "execution_count": 116,
   "id": "8c2ab916",
   "metadata": {},
   "outputs": [
    {
     "data": {
      "image/png": "[encoded data removed]",
      "text/plain": [
       "<Figure size 1200x1000 with 3 Axes>"
      ]
     },
     "metadata": {},
     "output_type": "display_data"
    }
   ],
   "source": [
    "fig, axes = plt.subplots(2, 2, figsize=(12, 10))\n",
    "fig.suptitle('comparison of performance')\n",
    "\n",
    "methods = ['Median\\n(Model A)', 'Linear Reg\\n(Model B)', 'KNN Reg\\n(Model C)', 'Listwise\\n(Model D)']\n",
    "colors = ['#FF6B6B', \"#9DF159\", \"#67C9E7\", \"#94EEC4\"]\n",
    "\n",
    "# plt 1\n",
    "accuracy_scores = [results[name]['metrics']['Accuracy'] for name in ['A', 'B', 'C', 'D']]\n",
    "f1_scores = [results[name]['metrics']['F1-Score'] for name in ['A', 'B', 'C', 'D']]\n",
    "\n",
    "x = np.arange(len(methods))\n",
    "width = 0.35\n",
    "\n",
    "axes[0, 0].bar(x - width/2, accuracy_scores, width, label='acc', color=colors[0], alpha=0.8)\n",
    "axes[0, 0].bar(x + width/2, f1_scores, width, label='f1', color=colors[1], alpha=0.8)\n",
    "axes[0, 0].set_title('accuracy vs f1-score')\n",
    "axes[0, 0].set_xlabel('imputation method')\n",
    "axes[0, 0].set_ylabel('score')\n",
    "axes[0, 0].set_xticks(x)\n",
    "axes[0, 0].set_xticklabels(methods)\n",
    "axes[0, 0].legend()\n",
    "axes[0, 0].grid(True, alpha=0.3)\n",
    "\n",
    "# precision recall plt\n",
    "precision_scores = [results[name]['metrics']['Precision'] for name in ['A', 'B', 'C', 'D']]\n",
    "recall_scores = [results[name]['metrics']['Recall'] for name in ['A', 'B', 'C', 'D']]\n",
    "\n",
    "axes[0, 1].bar(x - width/2, precision_scores, width, label='pre', color=colors[2], alpha=0.8)\n",
    "axes[0, 1].bar(x + width/2, recall_scores, width, label='rec', color=colors[3], alpha=0.8)\n",
    "axes[0, 1].set_title('precision vs recall Comparison')\n",
    "axes[0, 1].set_xlabel('imputation Method')\n",
    "axes[0, 1].set_ylabel('score')\n",
    "axes[0, 1].set_xticks(x)\n",
    "axes[0, 1].set_xticklabels(methods)\n",
    "axes[0, 1].legend()\n",
    "axes[0, 1].grid(True, alpha=0.3)\n",
    "\n",
    "# f1 plt\n",
    "axes[1, 0].bar(methods, f1_scores, color=colors, alpha=0.8)\n",
    "axes[1, 0].set_title('f1 score')\n",
    "axes[1, 0].set_xlabel('imputation method')\n",
    "axes[1, 0].set_ylabel('f1 score')\n",
    "axes[1, 0].grid(True, alpha=0.3)\n",
    "\n",
    "for i, v in enumerate(f1_scores):\n",
    "    axes[1, 0].text(i, v + 0.01, f'{v:.4f}', ha='center', va='bottom')\n",
    "\n",
    "plt.delaxes(axes[1,1])\n",
    "plt.tight_layout()\n",
    "plt.show()\n"
   ]
  },
  {
   "cell_type": "markdown",
   "id": "3b1a144f",
   "metadata": {},
   "source": [
    "### Efficacy Discussion"
   ]
  },
  {
   "cell_type": "markdown",
   "id": "e517a954",
   "metadata": {},
   "source": [
    "When comparing Listwise Deletion (Model D) to Imputation methods (Models A, B, and C), we see a clear trade-off. Listwise Deletion removed 2,923 rows, which accounted for 9.7% of the dataset. This reduction in data led to a lower performance, with an F1-score of 0.3500. On the other hand, the best imputation method, Median Imputation (Model A), achieved an F1-score of 0.3541. This suggests that imputation methods, by preserving more of the original data, resulted in a better learning signal for the model. The additional data allowed the model to perform slightly better, highlighting the advantage of imputing missing values rather than discarding rows entirely.\n",
    "\n",
    "Next, when we compare Linear Regression (Model B) to Non-Linear KNN (Model C), we see that both models performed very similarly. This suggests that the relationship between AGE and other features in the dataset may be approximately linear. Alternatively, it could mean that the linear model was able to capture the most important patterns in the data, making the more complex KNN Regression unnecessary. In this case, the simpler linear approach seemed to be sufficient for the task at hand.\n",
    "\n",
    "After analyzing these methods, the final recommendation is to use Median Imputation (Model A). This method achieved the highest F1-score of 0.3541 and effectively balanced precision and recall. The simplicity of the median imputation makes it a robust choice, providing good performance without the computational overhead of more complex methods. Additionally, it is less expensive computationally than both Linear Regression and KNN Regression, making it a more efficient option overall.\n",
    "\n",
    "In terms of practical considerations, the computational cost of median imputation is the lowest, followed by linear regression, with KNN regression being the most computationally demanding. From a data preservation standpoint, imputation methods are clearly better than listwise deletion, as they maintain more of the dataset. Furthermore, simpler methods like median imputation are often easier to explain to stakeholders, enhancing their interpretability and making them more accessible for non-technical audiences.\n",
    "\n",
    "Ultimately, the choice of imputation method has a significant impact on model performance. While simple techniques like median imputation are often sufficient and efficient, more complex methods such as regression-based imputation can provide better results when the Missing At Random (MAR) assumption holds, and when the relationships between variables are appropriately captured. The optimal imputation method depends on the specific dataset, the mechanism of missing data, and the computational resources available.\n"
   ]
  }
 ],
 "metadata": {
  "kernelspec": {
   "display_name": "base",
   "language": "python",
   "name": "python3"
  },
  "language_info": {
   "codemirror_mode": {
    "name": "ipython",
    "version": 3
   },
   "file_extension": ".py",
   "mimetype": "text/x-python",
   "name": "python",
   "nbconvert_exporter": "python",
   "pygments_lexer": "ipython3",
   "version": "3.13.5"
  }
 },
 "nbformat": 4,
 "nbformat_minor": 5
}
